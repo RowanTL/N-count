{
 "cells": [
  {
   "cell_type": "code",
   "execution_count": 6,
   "id": "8699a015-4072-4a3a-af18-59b36baab7a4",
   "metadata": {},
   "outputs": [],
   "source": [
    "%matplotlib inline\n",
    "\n",
    "import numpy as np\n",
    "import os\n",
    "import numpy.typing as npt\n",
    "import pandas as pd\n",
    "import matplotlib.pyplot as plt\n",
    "from PIL import Image\n",
    "import json"
   ]
  },
  {
   "cell_type": "code",
   "execution_count": 7,
   "id": "00dfca54",
   "metadata": {},
   "outputs": [],
   "source": [
    "ambiguous_bases = [\"B\", \"D\", \"H\", \"K\", \"M\", \"N\", \"R\", \"S\", \"V\", \"W\", \"Y\"]"
   ]
  },
  {
   "cell_type": "code",
   "execution_count": 8,
   "id": "a3c52f59-7626-4901-adec-09d2f295c517",
   "metadata": {},
   "outputs": [],
   "source": [
    "#load each json file\n",
    "data = {}\n",
    "for base in ambiguous_bases:\n",
    "    json_file = f\"{base}.json\"\n",
    "    with open(json_file, \"r\") as file:\n",
    "        data[base] = json.load(file)\n"
   ]
  },
  {
   "cell_type": "code",
   "execution_count": 9,
   "id": "31dc317b",
   "metadata": {},
   "outputs": [],
   "source": [
    "#create graphs dir\n",
    "graphs_dir = 'graphs'\n",
    "os.makedirs(graphs_dir, exist_ok=True)"
   ]
  },
  {
   "cell_type": "code",
   "execution_count": 10,
   "id": "dbfb9cb0-3899-4758-a29a-e20ffbca7325",
   "metadata": {},
   "outputs": [
    {
     "name": "stdout",
     "output_type": "stream",
     "text": [
      "Collage saved at graphs\\B\\all_B.png\n",
      "Collage saved at graphs\\D\\all_D.png\n",
      "Collage saved at graphs\\H\\all_H.png\n",
      "Collage saved at graphs\\K\\all_K.png\n",
      "Collage saved at graphs\\M\\all_M.png\n",
      "Collage saved at graphs\\N\\all_N.png\n",
      "Collage saved at graphs\\R\\all_R.png\n",
      "Collage saved at graphs\\S\\all_S.png\n",
      "Collage saved at graphs\\V\\all_V.png\n",
      "Collage saved at graphs\\W\\all_W.png\n",
      "Collage saved at graphs\\Y\\all_Y.png\n"
     ]
    }
   ],
   "source": [
    "for base, counts in data.items():\n",
    "    base_dir = os.path.join(graphs_dir, base)\n",
    "    os.makedirs(base_dir, exist_ok=True)\n",
    "    \n",
    "    for chromosome, chromosome_data in counts.items():\n",
    "        sorted_counts = {k: v for k, v in sorted(chromosome_data.items(), key=lambda item: int(item[0]))}\n",
    "\n",
    "        fig, ax = plt.subplots(figsize=(10, max(6, len(sorted_counts) * 0.2)))\n",
    "        bars = ax.barh(list(sorted_counts.keys()), list(sorted_counts.values()), color='blue', alpha=0.7)\n",
    "        ax.set_xlabel('# of occurrences')\n",
    "        ax.set_ylabel('k-N')\n",
    "        ax.set_title(f'Chromosome {chromosome} Bar Graph')\n",
    "        ax.bar_label(bars, padding=3, fontsize=10)\n",
    "        plt.tight_layout()\n",
    "        \n",
    "        #save\n",
    "        graph_filename = f'chromosome_{base}_{chromosome}_graph.png'\n",
    "        plt.savefig(os.path.join(base_dir, graph_filename), dpi=300)\n",
    "        plt.close()\n",
    "\n",
    "    #mkae collage of chromosome graphs\n",
    "    collage_path = os.path.join(base_dir, f'all_{base}.png')\n",
    "    if os.path.exists(collage_path):\n",
    "        os.remove(collage_path)\n",
    "\n",
    "    #collect all img files\n",
    "    image_files = [os.path.join(base_dir, f) for f in os.listdir(base_dir) if f.endswith('.png')]\n",
    "    image_files.sort()  # Sort by filename\n",
    "\n",
    "    # open each img and make collage\n",
    "    images = [Image.open(img_file) for img_file in image_files]\n",
    "    num_images = len(images)\n",
    "\n",
    "    cols = 3  \n",
    "    rows = (num_images + cols - 1) // cols  \n",
    "    img_width, img_height = images[0].size\n",
    "\n",
    "    #create blank collage canvas\n",
    "    collage_width = cols * img_width\n",
    "    collage_height = rows * img_height\n",
    "    collage = Image.new('RGB', (collage_width, collage_height), (255, 255, 255))\n",
    "\n",
    "    #paste each bar chart into the collage\n",
    "    for i, img in enumerate(images):\n",
    "        x_offset = (i % cols) * img_width\n",
    "        y_offset = (i // cols) * img_height\n",
    "        collage.paste(img, (x_offset, y_offset))\n",
    "\n",
    "    collage.save(collage_path)\n",
    "\n",
    "    print(f'Collage saved at {collage_path}')\n"
   ]
  }
 ],
 "metadata": {
  "kernelspec": {
   "display_name": "Python 3 (ipykernel)",
   "language": "python",
   "name": "python3"
  },
  "language_info": {
   "codemirror_mode": {
    "name": "ipython",
    "version": 3
   },
   "file_extension": ".py",
   "mimetype": "text/x-python",
   "name": "python",
   "nbconvert_exporter": "python",
   "pygments_lexer": "ipython3",
   "version": "3.11.2"
  }
 },
 "nbformat": 4,
 "nbformat_minor": 5
}
